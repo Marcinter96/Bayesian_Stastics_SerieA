{
 "cells": [
  {
   "cell_type": "code",
   "execution_count": 1,
   "metadata": {},
   "outputs": [],
   "source": [
    "import numpy as np\n",
    "import pandas as pd"
   ]
  },
  {
   "cell_type": "code",
   "execution_count": 8,
   "metadata": {
    "scrolled": true
   },
   "outputs": [],
   "source": [
    "Data10=pd.read_csv(\"../Data/2009-2010.csv\")\n",
    "Data9=pd.read_csv(\"../Data/2008-2009.csv\")\n",
    "Data8=pd.read_csv(\"../Data/2007-2008.csv\")\n",
    "Data7=pd.read_csv(\"../Data/2006-2007.csv\")\n",
    "Data=pd.concat([Data7,Data8,Data9,Data10],sort=False,ignore_index=True)\n",
    "Data=Data[['HomeTeam','AwayTeam','FTHG','FTAG','FTR']]\n",
    "Data.columns=['Home','Away','HG','AG','Result']\n",
    "Out=[\"Lecce\",\"Messina\",\"Ascoli\",\"Reggina\",\"Empoli\",\"Torino\"]\n",
    "for out in Out:\n",
    "    Data = Data.loc[Data.Home != out]\n",
    "    Data = Data.loc[Data.Away != out]\n",
    "Data=Data.reset_index()\n",
    "Team=Data.Home.value_counts().index\n",
    "coef=pd.DataFrame({'Team':Team})\n"
   ]
  },
  {
   "cell_type": "code",
   "execution_count": 9,
   "metadata": {},
   "outputs": [],
   "source": [
    "Pred_Data=pd.read_csv(\"../Data/2009-2010.csv\")\n",
    "Pred_Data=Pred_Data[['HomeTeam','AwayTeam','FTHG','FTAG','FTR']]\n",
    "Pred_Data.columns=['Home','Away','HG','AG','Result']\n",
    "Team=Pred_Data.Home.value_counts().index"
   ]
  },
  {
   "cell_type": "code",
   "execution_count": 10,
   "metadata": {},
   "outputs": [
    {
     "data": {
      "text/html": [
       "<div>\n",
       "<style scoped>\n",
       "    .dataframe tbody tr th:only-of-type {\n",
       "        vertical-align: middle;\n",
       "    }\n",
       "\n",
       "    .dataframe tbody tr th {\n",
       "        vertical-align: top;\n",
       "    }\n",
       "\n",
       "    .dataframe thead th {\n",
       "        text-align: right;\n",
       "    }\n",
       "</style>\n",
       "<table border=\"1\" class=\"dataframe\">\n",
       "  <thead>\n",
       "    <tr style=\"text-align: right;\">\n",
       "      <th></th>\n",
       "      <th>index</th>\n",
       "      <th>Home</th>\n",
       "      <th>Away</th>\n",
       "      <th>HG</th>\n",
       "      <th>AG</th>\n",
       "      <th>Result</th>\n",
       "    </tr>\n",
       "  </thead>\n",
       "  <tbody>\n",
       "    <tr>\n",
       "      <th>0</th>\n",
       "      <td>0</td>\n",
       "      <td>Fiorentina</td>\n",
       "      <td>Inter</td>\n",
       "      <td>2</td>\n",
       "      <td>3</td>\n",
       "      <td>A</td>\n",
       "    </tr>\n",
       "    <tr>\n",
       "      <th>1</th>\n",
       "      <td>1</td>\n",
       "      <td>Roma</td>\n",
       "      <td>Livorno</td>\n",
       "      <td>2</td>\n",
       "      <td>0</td>\n",
       "      <td>H</td>\n",
       "    </tr>\n",
       "    <tr>\n",
       "      <th>2</th>\n",
       "      <td>3</td>\n",
       "      <td>Cagliari</td>\n",
       "      <td>Catania</td>\n",
       "      <td>0</td>\n",
       "      <td>1</td>\n",
       "      <td>A</td>\n",
       "    </tr>\n",
       "    <tr>\n",
       "      <th>3</th>\n",
       "      <td>4</td>\n",
       "      <td>Chievo</td>\n",
       "      <td>Siena</td>\n",
       "      <td>1</td>\n",
       "      <td>2</td>\n",
       "      <td>A</td>\n",
       "    </tr>\n",
       "    <tr>\n",
       "      <th>4</th>\n",
       "      <td>6</td>\n",
       "      <td>Milan</td>\n",
       "      <td>Lazio</td>\n",
       "      <td>2</td>\n",
       "      <td>1</td>\n",
       "      <td>H</td>\n",
       "    </tr>\n",
       "  </tbody>\n",
       "</table>\n",
       "</div>"
      ],
      "text/plain": [
       "   index        Home     Away  HG  AG Result\n",
       "0      0  Fiorentina    Inter   2   3      A\n",
       "1      1        Roma  Livorno   2   0      H\n",
       "2      3    Cagliari  Catania   0   1      A\n",
       "3      4      Chievo    Siena   1   2      A\n",
       "4      6       Milan    Lazio   2   1      H"
      ]
     },
     "execution_count": 10,
     "metadata": {},
     "output_type": "execute_result"
    }
   ],
   "source": [
    "Data.head()"
   ]
  },
  {
   "cell_type": "code",
   "execution_count": 4,
   "metadata": {},
   "outputs": [
    {
     "data": {
      "text/html": [
       "<div>\n",
       "<style scoped>\n",
       "    .dataframe tbody tr th:only-of-type {\n",
       "        vertical-align: middle;\n",
       "    }\n",
       "\n",
       "    .dataframe tbody tr th {\n",
       "        vertical-align: top;\n",
       "    }\n",
       "\n",
       "    .dataframe thead th {\n",
       "        text-align: right;\n",
       "    }\n",
       "</style>\n",
       "<table border=\"1\" class=\"dataframe\">\n",
       "  <thead>\n",
       "    <tr style=\"text-align: right;\">\n",
       "      <th></th>\n",
       "      <th>index</th>\n",
       "      <th>HG</th>\n",
       "      <th>AG</th>\n",
       "    </tr>\n",
       "  </thead>\n",
       "  <tbody>\n",
       "    <tr>\n",
       "      <th>count</th>\n",
       "      <td>1134.000000</td>\n",
       "      <td>1134.000000</td>\n",
       "      <td>1134.000000</td>\n",
       "    </tr>\n",
       "    <tr>\n",
       "      <th>mean</th>\n",
       "      <td>844.568783</td>\n",
       "      <td>1.530864</td>\n",
       "      <td>1.097002</td>\n",
       "    </tr>\n",
       "    <tr>\n",
       "      <th>std</th>\n",
       "      <td>437.286837</td>\n",
       "      <td>1.180311</td>\n",
       "      <td>1.055950</td>\n",
       "    </tr>\n",
       "    <tr>\n",
       "      <th>min</th>\n",
       "      <td>0.000000</td>\n",
       "      <td>0.000000</td>\n",
       "      <td>0.000000</td>\n",
       "    </tr>\n",
       "    <tr>\n",
       "      <th>25%</th>\n",
       "      <td>483.500000</td>\n",
       "      <td>1.000000</td>\n",
       "      <td>0.000000</td>\n",
       "    </tr>\n",
       "    <tr>\n",
       "      <th>50%</th>\n",
       "      <td>876.000000</td>\n",
       "      <td>1.000000</td>\n",
       "      <td>1.000000</td>\n",
       "    </tr>\n",
       "    <tr>\n",
       "      <th>75%</th>\n",
       "      <td>1235.750000</td>\n",
       "      <td>2.000000</td>\n",
       "      <td>2.000000</td>\n",
       "    </tr>\n",
       "    <tr>\n",
       "      <th>max</th>\n",
       "      <td>1519.000000</td>\n",
       "      <td>7.000000</td>\n",
       "      <td>5.000000</td>\n",
       "    </tr>\n",
       "  </tbody>\n",
       "</table>\n",
       "</div>"
      ],
      "text/plain": [
       "             index           HG           AG\n",
       "count  1134.000000  1134.000000  1134.000000\n",
       "mean    844.568783     1.530864     1.097002\n",
       "std     437.286837     1.180311     1.055950\n",
       "min       0.000000     0.000000     0.000000\n",
       "25%     483.500000     1.000000     0.000000\n",
       "50%     876.000000     1.000000     1.000000\n",
       "75%    1235.750000     2.000000     2.000000\n",
       "max    1519.000000     7.000000     5.000000"
      ]
     },
     "execution_count": 4,
     "metadata": {},
     "output_type": "execute_result"
    }
   ],
   "source": [
    "Data.describe()"
   ]
  }
 ],
 "metadata": {
  "interpreter": {
   "hash": "f582a5861d3dcea4e64d5e200ed4ee5a30f56e00e954e63beb025b62d243ba70"
  },
  "kernelspec": {
   "display_name": "Python 3.10.7 64-bit (windows store)",
   "language": "python",
   "name": "python3"
  },
  "language_info": {
   "codemirror_mode": {
    "name": "ipython",
    "version": 3
   },
   "file_extension": ".py",
   "mimetype": "text/x-python",
   "name": "python",
   "nbconvert_exporter": "python",
   "pygments_lexer": "ipython3",
   "version": "3.10.7"
  }
 },
 "nbformat": 4,
 "nbformat_minor": 2
}
